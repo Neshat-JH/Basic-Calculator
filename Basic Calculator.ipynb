{
 "cells": [
  {
   "cell_type": "markdown",
   "metadata": {},
   "source": [
    "# Basic Calculator in Pyton"
   ]
  },
  {
   "cell_type": "markdown",
   "metadata": {},
   "source": [
    "## In this notebook I'm going to create a calculator in Python:\n"
   ]
  },
  {
   "cell_type": "code",
   "execution_count": 9,
   "metadata": {},
   "outputs": [
    {
     "name": "stdout",
     "output_type": "stream",
     "text": [
      "Enter a number:5\n",
      " Enter operator*\n",
      "Enter the second number: 50\n",
      "250.0\n"
     ]
    }
   ],
   "source": [
    "num1= float(input(\"Enter a number:\"))\n",
    "op=input(\" Enter operator:\")\n",
    "num2= float(input(\"Enter the second number: \"))\n",
    "\n",
    "if op=='+':\n",
    "    print(num1+num2)\n",
    "elif op=='-':\n",
    "    print(num1-num2)\n",
    "    \n",
    "elif op=='*':\n",
    "    print(num1*num2)\n",
    "    \n",
    "elif op=='/':\n",
    "    print(num1/num2)\n",
    "    \n",
    "else:\n",
    "    print(\"Invalid operator\")\n"
   ]
  },
  {
   "cell_type": "code",
   "execution_count": null,
   "metadata": {
    "scrolled": true
   },
   "outputs": [],
   "source": []
  },
  {
   "cell_type": "code",
   "execution_count": null,
   "metadata": {},
   "outputs": [],
   "source": []
  },
  {
   "cell_type": "code",
   "execution_count": null,
   "metadata": {},
   "outputs": [],
   "source": []
  }
 ],
 "metadata": {
  "kernelspec": {
   "display_name": "Python 3",
   "language": "python",
   "name": "python3"
  },
  "language_info": {
   "codemirror_mode": {
    "name": "ipython",
    "version": 3
   },
   "file_extension": ".py",
   "mimetype": "text/x-python",
   "name": "python",
   "nbconvert_exporter": "python",
   "pygments_lexer": "ipython3",
   "version": "3.8.3"
  }
 },
 "nbformat": 4,
 "nbformat_minor": 4
}
